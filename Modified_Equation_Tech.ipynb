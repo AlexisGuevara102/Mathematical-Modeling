{
 "cells": [
  {
   "cell_type": "markdown",
   "id": "376a337c",
   "metadata": {},
   "source": [
    "### <p style=\"text-align: right;\"> Alexis Guevara"
   ]
  },
  {
   "cell_type": "markdown",
   "id": "d505a235",
   "metadata": {},
   "source": [
    "# Modified Equation Technique and Upwind Finite-Difference Method for Linear Hyperbolic Systems"
   ]
  },
  {
   "cell_type": "markdown",
   "id": "a18ee822",
   "metadata": {},
   "source": [
    "## Preliminary"
   ]
  },
  {
   "cell_type": "code",
   "execution_count": 4,
   "id": "d427c70e",
   "metadata": {},
   "outputs": [],
   "source": [
    "import numpy as np\n",
    "import matplotlib.pyplot as plt"
   ]
  },
  {
   "cell_type": "markdown",
   "id": "c81da65d",
   "metadata": {},
   "source": [
    "## Modified Equation Technique"
   ]
  },
  {
   "cell_type": "markdown",
   "id": "feb22751",
   "metadata": {},
   "source": [
    "Consider the finite difference method:\n",
    "\n",
    "\\begin{equation}\n",
    "    u_j^{n+1} = u_{j}^n - \\Delta t \\frac{u_{j+1}^n - u_{j-1}^n}{2h} + \\Delta t^2 \\frac{u_{j+1}^n - 2u_j^n + u_{j-1}^n}{2h^2}\n",
    "\\end{equation}\n",
    "\n",
    "From the computation of the local truncation error:\n",
    "\n",
    "\\begin{equation}\n",
    "    \\partial_t u(x,t) + \\partial_x u(x,t) + \\left( \\frac{h^2}{6} \\partial_x^3 u(x,t) - \\frac{h^2 \\Delta t}{24} \\partial_x^4 u(x,t) \\right) + \\ldots = 0 \n",
    "\\end{equation}\n",
    "\n",
    "Truncating the series leads to:\n",
    "\n",
    "\\begin{equation}\n",
    "    \\partial_t u(x,t) + \\partial_x u(x,t) + \\frac{h^2}{6} \\partial_x^3 u(x,t) = 0 \n",
    "\\end{equation}\n",
    "\n",
    "Using Fourier analysis:\n",
    "\n",
    "\\begin{equation}\n",
    "    \\begin{aligned}\n",
    "        u(x,t) =&\\,\\, \\frac{1}{2 \\pi} \\int_{-\\infty}^{\\infty} \\hat{u}(\\xi , t) e^{i \\xi x} d\\xi \\\\ \n",
    "        \\partial_x u(x,t) =&\\,\\, \\frac{1}{2 \\pi} \\int_{-\\infty}^{\\infty} (i \\xi) \\hat{u}(\\xi , t) e^{i \\xi x} d\\xi \\\\ \n",
    "        \\partial_x^{3} u(x,t) =&\\,\\, \\frac{1}{2 \\pi} \\int_{-\\infty}^{\\infty} (-i \\xi^{3}) \\hat{u}(\\xi , t) e^{i \\xi x} d\\xi \\\\ \n",
    "        \\partial_t u(x,t) =&\\,\\, \\frac{1}{2 \\pi} \\int_{-\\infty}^{\\infty} \\partial_{t}\\hat{u}(\\xi , t) e^{i \\xi x} d\\xi \\\\ \n",
    "    \\end{aligned}\n",
    "\\end{equation}\n",
    "\n",
    "So, the Fourier transform of the modified equation is as follows:\n",
    "\n",
    "\\begin{equation}\n",
    "    \\begin{aligned}\n",
    "        \\int_{-\\infty}^{\\infty} \\left( \\partial_t u(x,t) + \\partial_x u(x,t) + \\frac{h^2}{6} \\partial_x^3 u(x,t) \\right) e^{i \\xi x} dx = 0 \\\\\n",
    "        \\partial_t \\hat{u}(x,t) + (i \\xi) \\hat{u}(x,t) - \\frac{h^2 i \\xi^{3}}{6} \\hat{u}(x,t) = 0 \\\\\n",
    "        \\partial_t \\hat{u}(x,t) = - i \\xi \\hat{u}(x,t) + \\frac{h^2 i \\xi^{3}}{6} \\hat{u}(x,t) \\\\\n",
    "        \\partial_t \\hat{u}(x,t) = \\left( -i \\xi + \\frac{h^2 i \\xi^{3}}{6} \\right) \\hat{u}(x,t) \n",
    "    \\end{aligned}\n",
    "\\end{equation}\n",
    "\n",
    "We now have a time-dependent ODE.\n",
    "We have to solve an ODE for each value of $\\xi$.\n",
    "\n",
    "Consider the initial data $u(x,0) = g(x)$.\n",
    "So \n",
    "\n",
    "\\begin{equation}\n",
    "    \\hat{u} (\\xi,0) = \\hat{g} (\\xi) = \\int_{-\\infty}^{\\infty} g(x) e^{i \\xi x} dx\n",
    "\\end{equation}\n",
    "\n",
    "and the solution of the ODE is \n",
    "\n",
    "\\begin{equation}\n",
    "    \\begin{aligned}\n",
    "        \\hat{u} (\\xi,t) = \\hat{g} (\\xi) e^{\\left(-i \\xi + \\frac{h^2}{6} i \\xi^{3}\\right) t} \\\\\n",
    "        \\hat{u} (\\xi,t) = \\hat{g} (\\xi) e^{ -i \\xi \\left(1 + \\frac{h^2}{6} \\xi^{2}\\right) t} \\\\\n",
    "        u(x,t) = \\frac{1}{2 \\pi} \\int_{-\\infty}^{\\infty} \\hat{g} (\\xi) e^{ -i \\xi \\left(1 + \\frac{h^2}{6} \\xi^{2}\\right) t} e^{i x \\xi} d \\xi \\\\\n",
    "        u(x,t) = \\frac{1}{2 \\pi} \\int_{-\\infty}^{\\infty} \\hat{g} (\\xi) e^{i \\xi \\left(x - \\left( 1 + \\frac{h^2}{6} \\xi^{2}\\right) t\\right)} d \\xi  \n",
    "    \\end{aligned}\n",
    "\\end{equation}\n",
    "\n",
    "Therefore, each Fourier mode $e^{i \\xi x}$ propogates at velocity $1 + \\frac{h^2}{6} \\xi^{2}$.\n",
    "\n",
    "The modes for $\\frac{h^2}{6} \\xi^{2} \\neq 0$ propagate at different speeds relative to one another.\n",
    "\n",
    "Thus, a dispersion occurs within then method where the shape of the initial data will not be preserved."
   ]
  },
  {
   "cell_type": "markdown",
   "id": "21a08cdc",
   "metadata": {},
   "source": [
    "## An upwind finite-difference method for linear hyperbolic systems"
   ]
  },
  {
   "cell_type": "markdown",
   "id": "1c70cfb6",
   "metadata": {},
   "source": [
    "Seek a numerical solution of \n",
    "\n",
    "\\begin{equation}\n",
    "       \\partial_t \\mathbf{u} + A\\partial_x \\mathbf{u} = 0, \n",
    "\\end{equation}\n",
    "\n",
    "in the domain $\\Omega = [0,2\\pi]$ and a time interval $[0,T]$. Here $A$ is a constant $m\\times m$ matrix that is assumed to be diagonalizable. The initial and boundary conditions are \n",
    "    \n",
    "\\begin{equation}\n",
    "    \\begin{aligned}\n",
    "        \\mathbf{u}(x,0) =&\\,\\, \\mathbf{g}(x),\\\\\n",
    "        \\mathbf{u}(0,t) =&\\,\\, \\mathbf{u}(2\\pi,t).\n",
    "    \\end{aligned}\n",
    "\\end{equation}\n",
    "\n",
    "To do so, use an upwind finite-difference method. "
   ]
  },
  {
   "cell_type": "markdown",
   "id": "0b727b17",
   "metadata": {},
   "source": [
    "**Task 1**\n",
    "\n",
    "Create a function `compute_matrice_A_parts` that computes $A^+ = R \\Lambda^+ R^{-1}$ and $A^- = R \\Lambda^- R^{-1}$. Here $R$ contains the eigenvectors of $A$, $\\Lambda^+$ contains the positive eigenvalues of $A$ and $\\Lambda^-$ contains the negative eigenvalues of $A$ so that $\\Lambda^++\\Lambda^-=\\Lambda$ and $A^++A^-=A$. The input is the matrix $A$ and the outputs are the matrices $A^-$ and $A^+$. Use a verification test."
   ]
  },
  {
   "cell_type": "code",
   "execution_count": 11,
   "id": "a6fcb636",
   "metadata": {},
   "outputs": [
    {
     "name": "stdout",
     "output_type": "stream",
     "text": [
      "Matrix A:\n",
      "[[0. 5.]\n",
      " [2. 0.]]\n",
      "\n",
      "Matrix A+\n",
      "[[1.58113883 2.5       ]\n",
      " [1.         1.58113883]]\n",
      "\n",
      "Matrix A-\n",
      "[[-1.58113883  2.5       ]\n",
      " [ 1.         -1.58113883]]\n",
      "\n",
      "A_plus + A_minus:\n",
      "[[-4.4408921e-16  5.0000000e+00]\n",
      " [ 2.0000000e+00  4.4408921e-16]]\n",
      "\n",
      "A_plus + A_minus = A ? True\n"
     ]
    }
   ],
   "source": [
    "def compute_matrice_A_parts(A):\n",
    "    # Compute eigenvalues and eigenvectors of A\n",
    "    eigenvalues, R = np.linalg.eig(A)\n",
    "   \n",
    "    # Initialize Lambda_plus & Lambda_minus\n",
    "    Lambda_plus  = np.zeros_like(A)\n",
    "    Lambda_minus = np.zeros_like(A)\n",
    "    \n",
    "    # Create Lambda_plus & Lambda_minus\n",
    "    for i in range(len(eigenvalues)):\n",
    "        if eigenvalues[i] > 0:\n",
    "            Lambda_plus[i,i]  = eigenvalues[i]\n",
    "        else:\n",
    "            Lambda_minus[i,i] = eigenvalues[i]\n",
    "\n",
    "    # Compute A_plus and A_minus\n",
    "    A_plus  = R @ Lambda_plus @ np.linalg.inv(R)\n",
    "    A_minus = R @ Lambda_minus @ np.linalg.inv(R)\n",
    "\n",
    "    return A_plus , A_minus\n",
    "\n",
    "\n",
    "# Verification Test\n",
    "A = np.array([[0., 5.], [2., 0.]])\n",
    "A_plus , A_minus = compute_matrice_A_parts(A)\n",
    "\n",
    "print(\"Matrix A:\")\n",
    "print(A)\n",
    "\n",
    "print(\"\\nMatrix A+\")\n",
    "print(A_plus)\n",
    "\n",
    "print(\"\\nMatrix A-\")\n",
    "print(A_minus)\n",
    "\n",
    "print(\"\\nA_plus + A_minus:\")\n",
    "print(A_plus + A_minus)\n",
    "\n",
    "print(\"\\nA_plus + A_minus = A ?\", np.allclose(A, A_plus + A_minus))"
   ]
  },
  {
   "cell_type": "markdown",
   "id": "5397412e",
   "metadata": {},
   "source": [
    "**Task 2**\n",
    "\n",
    "Create a function `upwind_fd_method` that compute a numerical solution using \n",
    "\n",
    "$$\\mathbf{u}_j^{n+1} = \\mathbf{u}_j^n - \\Delta t A^+ \\frac{\\mathbf{u}_j^n - \\mathbf{u}_{j-1}^n}{h} - \\Delta tA^- \\frac{\\mathbf{u}_{j+1}^n-\\mathbf{u}_j^n}{h}$$\n",
    "\n",
    "Here $\\Delta t$ is the time-step size and $h$ is the mesh size. The inputs are the mesh size, the time-step size, the endpoints of $\\Omega$, the final time $T$, the matrix $A$ and the Python function `initial_cdn` that computes the initial data.  The outputs are a vector containing the $x$ coordinates, the computed final time and the numerical solution at $T$. Observe the **key idea** behind this method.\n",
    "\n",
    "Consider that you have now a vector containing the values of the different variables at each node instead of a single value. So $\\mathbf{u}_j^n$ is a vector containing the $m$ variables at $(x_j,t_n)$. You could define a matrix $\\mathbf{u}^n = [\\mathbf{u}_0^n, \\mathbf{u}_1^n, \\dots, \\mathbf{u}_{N_x}^n]^T$"
   ]
  },
  {
   "cell_type": "code",
   "execution_count": 13,
   "id": "6ac42374",
   "metadata": {},
   "outputs": [],
   "source": [
    "def upwind_fd_method(h,delta_t,Omega,T,A,initial_cdn):\n",
    "    # Compute A_minus and A_plus\n",
    "    A_minus , A_plus = compute_matrice_A_parts(A)\n",
    "    \n",
    "    # Define the x coordinates\n",
    "    x = np.arange(Omega[0], Omega[1], h+1)\n",
    "        \n",
    "    u = np.array([initial_cdn(xi) for xi in x]) # Initialize solution u w/ initial condition\n",
    "    u_old = np.copy(u)                          # Initialize solution u at previous time step\n",
    "    \n",
    "    # Upwind FD Method\n",
    "    t = 0\n",
    "    while t < T:\n",
    "        for j in range(1, len(x)-1):\n",
    "            u[j] = u_old[j] - delta_t * (A_plus @ ((u_old[j] - u_old[j - 1]) / h)) - delta_t * (A_minus @ ((u_old[j + 1] - u_old[j]) / h)) \n",
    "        \n",
    "        # Boundary condition\n",
    "        u[-1] = u[0]\n",
    "        \n",
    "        u_old = np.copy(u)  # Update solution at previous time step\n",
    "        t += delta_t        # Update time\n",
    "    \n",
    "    # Return x-coordinates , computed final time , and numerical solution at final time\n",
    "    return x, t, u"
   ]
  },
  {
   "cell_type": "markdown",
   "id": "ad18d9e1",
   "metadata": {},
   "source": [
    "The function `upwind_fd_method` applies a forward finite difference method to the negative eigenvalues of A and a backward finite difference method to the positive eigenvalues of A.\n",
    "\n",
    "The decision ensures that the finite difference is taken in the direction of the characteristic curve when considering the numerical domain of dependence of the PDE. The left side of the domain of dependence is dependent on the positive eigenvalues of matrix A and the right side of the domain of dependence is dependent on the negative eigenvalues of matrix A.\n",
    "\n",
    "This can further be observed when constructing the stencil when isolating either one of the finite different methods used in the function `upwind_fd_method`. The stencil for the forward finite difference method relies on ${u}_j^{n+1}$ , ${u}_j^{n}$, and ${u}_{j-1}^{n}$. The stencil for the forward finite difference method relies on ${u}_j^{n+1}$ , ${u}_j^{n}$, and ${u}_{j+1}^{n}$."
   ]
  },
  {
   "cell_type": "markdown",
   "id": "adf5a44e",
   "metadata": {},
   "source": [
    "**Task 3**\n",
    "\n",
    "Consider \n",
    "\n",
    "$$ A = \\begin{bmatrix} 0 & -1/8 \\\\ -1/2 & 0 \\end{bmatrix}$$\n",
    "\n",
    "Perform a convergence plot using the initial condition \n",
    "\n",
    "$$\\mathbf{g}(x) = \\begin{bmatrix} 0 \\\\ -\\cos(x)\\end{bmatrix}$$\n",
    "\n",
    "with $h=2^{-k}$ for $k=1,\\dots,8$, and $T=2$. Explain your choice of the time-step size (stability condition). According to your numerical results, what is the order of the method?"
   ]
  },
  {
   "cell_type": "code",
   "execution_count": 16,
   "id": "8bfa1237",
   "metadata": {
    "scrolled": true
   },
   "outputs": [
    {
     "data": {
      "image/png": "[encoded data removed]",
      "text/plain": [
       "<Figure size 640x480 with 1 Axes>"
      ]
     },
     "metadata": {},
     "output_type": "display_data"
    }
   ],
   "source": [
    "# Initial condition\n",
    "def initial_cdn(x):\n",
    "    return np.array([[0], [-np.cos(x)]])\n",
    "\n",
    "# Define parameters\n",
    "Omega = [0, 2*np.pi]  # Domain\n",
    "T = 2                 # Final time\n",
    "A = np.array([[0, -1/8], [-1/2, 0]])  # Matrix A\n",
    "\n",
    "# Define k range\n",
    "k_1 = 1\n",
    "k_f = 9\n",
    "\n",
    "# Initialize errors & h values\n",
    "errors   = np.zeros(k_f-k_1)\n",
    "h_values = np.zeros(k_f-k_1)\n",
    "\n",
    "for k in range(k_1, k_f):\n",
    "    # Mesh size\n",
    "    h = 2.0**-k\n",
    "    h_values[k-k_1] = h\n",
    "    \n",
    "    # Time-step size\n",
    "    delta_t = h / np.max(np.abs(np.linalg.eigvals(A))) # Assigned because of stability condition\n",
    "    \n",
    "    # Numerical solution \n",
    "    x, t, u = upwind_fd_method(h, delta_t, Omega, T, A, initial_cdn)\n",
    "    \n",
    "    # Exact solution\n",
    "    u_exact = np.array([initial_cdn(xi + t * np.max(np.abs(np.linalg.eigvals(A)))) for xi in x])\n",
    "    \n",
    "    # Errors\n",
    "    errors[k-k_1] = np.max(np.abs(u - u_exact))\n",
    "\n",
    "# Convergence Plot\n",
    "plt.loglog(h_values, errors, label='my_fdtd',color=\"blue\",marker=\"*\",linestyle=\"-\")\n",
    "plt.loglog(h_values, h_values**1.00, label=\"$h^{1}$\",color=\"red\",linestyle=\"-\")\n",
    "plt.legend()\n",
    "plt.title('Convergence Plot of upwind_fd_method at time T = 2')\n",
    "plt.xlabel('$h$')\n",
    "plt.ylabel('Absolute Error')\n",
    "plt.show()"
   ]
  },
  {
   "cell_type": "markdown",
   "id": "e7374512",
   "metadata": {},
   "source": [
    "The choice of the time-step size is dependent on the stability condition of the linear hyperbolic PDE. Since the diagonalizable and constant matrix A is defined with $A^{+}$ and $A^{-}$ in the method, the propagation of the curve is determine by the eigenvalues of the matrix A.\n",
    "\n",
    "Therefore, the stability condition of the linear hyperbolic PDE is $\\frac{\\Delta t}{h} = \\lambda$ which is derived in the notes. The choice of the stability condition is then assigned to $\\Delta t \\leq \\frac{h}{|\\lambda|_{max}}$ , where $\\lambda$ is an eigenvalue of A. Within the stability condition, the maximum absolute eigenvalue of A is chosen to ensure that the domain of dependence of the PDE is contained within the numerical domain of dependence.\n",
    "\n",
    "Although there is an error in the convergence plot for the `upwind_fd_method`, the order of the method is approximately 1."
   ]
  }
 ],
 "metadata": {
  "kernelspec": {
   "display_name": "Python [conda env:base] *",
   "language": "python",
   "name": "conda-base-py"
  },
  "language_info": {
   "codemirror_mode": {
    "name": "ipython",
    "version": 3
   },
   "file_extension": ".py",
   "mimetype": "text/x-python",
   "name": "python",
   "nbconvert_exporter": "python",
   "pygments_lexer": "ipython3",
   "version": "3.11.5"
  }
 },
 "nbformat": 4,
 "nbformat_minor": 5
}
