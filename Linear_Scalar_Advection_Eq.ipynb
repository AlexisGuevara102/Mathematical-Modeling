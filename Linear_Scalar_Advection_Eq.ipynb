{
 "cells": [
  {
   "cell_type": "markdown",
   "id": "376a337c",
   "metadata": {},
   "source": [
    "### <p style=\"text-align: right;\"> Alexis Guevara"
   ]
  },
  {
   "cell_type": "markdown",
   "id": "d505a235",
   "metadata": {},
   "source": [
    "# Linear Scalar Advection Equation"
   ]
  },
  {
   "cell_type": "markdown",
   "id": "a18ee822",
   "metadata": {},
   "source": [
    "## Preliminary"
   ]
  },
  {
   "cell_type": "code",
   "execution_count": 4,
   "id": "d427c70e",
   "metadata": {},
   "outputs": [],
   "source": [
    "# Please keep the following two command lines to generate the animation\n",
    "from IPython.display import display, clear_output\n",
    "import time  \n",
    "\n",
    "import numpy as np\n",
    "import matplotlib.pyplot as plt"
   ]
  },
  {
   "cell_type": "markdown",
   "id": "c81da65d",
   "metadata": {},
   "source": [
    "## Linear advection equation\n",
    "\n",
    "Seek a numerical solution of \n",
    "\n",
    "\\begin{equation}\n",
    "       \\partial_t u + \\partial_x u = 0, \n",
    "\\end{equation}\n",
    "\n",
    "in the domain $\\Omega = [-1,1]$ and a time interval $[0,T]$. The initial and boundary conditions are \n",
    "    \n",
    "\\begin{equation}\n",
    "    \\begin{aligned}\n",
    "        u(x,0) =&\\,\\, g(x),\\\\\n",
    "        u(-1,t) =&\\,\\, u(1,t).\n",
    "    \\end{aligned}\n",
    "\\end{equation}"
   ]
  },
  {
   "cell_type": "markdown",
   "id": "6758d6d8",
   "metadata": {},
   "source": [
    "**Task 1**\n",
    "\n",
    "Create a function `my_fdtd` that computes a numerical solution using the finite difference method \n",
    "\n",
    "\\begin{equation*}\n",
    "    u_j^{n+1} = u_{j}^n - \\Delta t \\frac{u_{j+1}^n - u_{j-1}^n}{2h} + \\Delta t^2 \\frac{u_{j+1}^n - 2u_j^n + u_{j-1}^n}{2h^2}.\n",
    "\\end{equation*}\n",
    "\n",
    "Here $\\Delta t$ is the time step size and $h$ is the mesh size. The inputs are the mesh size, the CFL constant, the endpoints of $\\Omega$, the final time $T$, the Python function `initial_cdn` that computes the initial data and a logic variable `is_movie` (true if you want to visualize the evolution of the numerical solution; otherwise false). The outputs are a vector containing the $x$ coordinates, the computed final time and the numerical solution at $T$."
   ]
  },
  {
   "cell_type": "code",
   "execution_count": 7,
   "id": "3441625d",
   "metadata": {},
   "outputs": [],
   "source": [
    "def my_fdtd(h,cfl,Omega,T,initial_cdn,is_movie):\n",
    "    x = np.arange(Omega[0], Omega[1]+h, h) # Define x coordinates\n",
    "    dt = cfl * h                           # Define time step size\n",
    "\n",
    "    u = initial_cdn(x) # Initialize solution w/ initial condition\n",
    "    u_old = np.copy(u) # Initialize solution at previous time step\n",
    "    \n",
    "    # Animate Solution\n",
    "    if is_movie:\n",
    "        fig = plt.figure(figsize=(5,5))\n",
    "        plt.plot(x, u)\n",
    "        plt.xlim(min(x), max(x))\n",
    "        plt.ylim(-1,1)\n",
    "        plt.xlabel('$x$')\n",
    "        plt.ylabel('approximation of $u$')\n",
    "        plt.title('time '+format(0, '.2f'))\n",
    "        time.sleep(0.5)\n",
    "        clear_output(wait=True)\n",
    "        display(fig)\n",
    "        fig.clear()\n",
    "\n",
    "    t = 0\n",
    "    while t < T:\n",
    "        # Finite Difference Method\n",
    "        u[1:-1] = u_old[1:-1] - (dt)*(u_old[2:] - u_old[:-2]) / (2*h) + (dt**2)*(u_old[2:] - 2*u_old[1:-1] + u_old[:-2]) / (2*h**2)\n",
    "\n",
    "        # Apply boundary conditions\n",
    "        u[0] = u[-2]\n",
    "        u[-1] = u[-1]\n",
    "\n",
    "        u_old = np.copy(u) # Update solution at previous time step\n",
    "        t += dt            # Update time\n",
    "        \n",
    "        # Animate Solution\n",
    "        if is_movie:\n",
    "            plt.plot(x, u)\n",
    "            plt.xlim(min(x), max(x))\n",
    "            plt.ylim(-1,1)\n",
    "            plt.xlabel('$x$')\n",
    "            plt.ylabel('approximation of $u$')\n",
    "            plt.title('time '+format(t, '.2f'))\n",
    "            time.sleep(0.5)\n",
    "            clear_output(wait=True)\n",
    "            display(fig)\n",
    "            fig.clear()\n",
    "\n",
    "    return x, t, u"
   ]
  },
  {
   "cell_type": "markdown",
   "id": "3160bb7d",
   "metadata": {},
   "source": [
    "**Task 2**\n",
    "\n",
    "Perform a convergence plot using the initial condition \n",
    "\n",
    "$$g(x) = e^{-\\frac{x^2}{\\sigma^2}}$$\n",
    "\n",
    "with $\\sigma = 0.01$, $\\Delta t = 0.5 h$, $h=2^{-k}$ for $k=5,\\dots,14$, and $T=2$. According to your numerical results, what is the order of the method?"
   ]
  },
  {
   "cell_type": "code",
   "execution_count": 9,
   "id": "b0606e56",
   "metadata": {},
   "outputs": [
    {
     "data": {
      "image/png": "[encoded data removed]",
      "text/plain": [
       "<Figure size 640x480 with 1 Axes>"
      ]
     },
     "metadata": {},
     "output_type": "display_data"
    }
   ],
   "source": [
    "# Define initial condition\n",
    "def initial_cdn(x):\n",
    "    sigma = 0.01\n",
    "    return np.exp(-x**2 / sigma**2)\n",
    "\n",
    "# Define parameters\n",
    "cfl = 0.5\n",
    "Omega = [-1, 1]\n",
    "T = 2\n",
    "is_movie = False\n",
    "\n",
    "# Define k range\n",
    "k_1 = 5\n",
    "k_f = 15\n",
    "\n",
    "# Initialize errors & h values\n",
    "errors   = np.zeros(k_f-k_1)\n",
    "h_values = np.zeros(k_f-k_1)\n",
    "\n",
    "for k in range(k_1,k_f):\n",
    "    # Mesh Size\n",
    "    h = 2.0**-k\n",
    "    h_values[k-k_1] = h\n",
    "    \n",
    "    # Finite Difference Method\n",
    "    x, t, u = my_fdtd(h,cfl,Omega,T,initial_cdn,is_movie)\n",
    "    \n",
    "    u_exact = initial_cdn(x - t)                         # Compute exact solution\n",
    "    errors[k-k_1] = np.max(np.abs(u - u_exact))          # Compute errors\n",
    "\n",
    "# Plot Convergence oF Finite Difference Method\n",
    "plt.loglog(h_values, errors, label='my_fdtd',color=\"blue\",marker=\"*\",linestyle=\"-\")\n",
    "plt.loglog(h_values, h_values**1.0, label=\"$h^{1}$\",color=\"red\",linestyle=\"-\")\n",
    "plt.legend()\n",
    "plt.title(\"Convergence Plot of my_fdtd at time T=2\")\n",
    "plt.xlabel(\"h\")\n",
    "plt.ylabel(\"Absolute Error\")\n",
    "plt.show()"
   ]
  },
  {
   "cell_type": "markdown",
   "id": "feb22751",
   "metadata": {},
   "source": [
    "According to my numerical results, the order of the method is 1."
   ]
  },
  {
   "cell_type": "markdown",
   "id": "21a08cdc",
   "metadata": {},
   "source": [
    "## Analysis of the Finite-Difference Method"
   ]
  },
  {
   "cell_type": "markdown",
   "id": "0b727b17",
   "metadata": {},
   "source": [
    "**Task 1**\n",
    "\n",
    "Is the finite difference method consistent?"
   ]
  },
  {
   "cell_type": "markdown",
   "id": "30079ade",
   "metadata": {},
   "source": [
    "Consider the finite difference method:\n",
    "\n",
    "\\begin{equation}\n",
    "    u_j^{n+1} = u_{j}^n - \\Delta t \\frac{u_{j+1}^n - u_{j-1}^n}{2h} + \\Delta t^2 \\frac{u_{j+1}^n - 2u_j^n + u_{j-1}^n}{2h^2}.\n",
    "\\end{equation}\n",
    "\n",
    "\n",
    "The local truncation error for the method is:\n",
    "\n",
    "\\begin{equation}\n",
    "    \\begin{aligned}\n",
    "        L_{\\Delta t}(x,t) =&\\,\\, \\frac{1}{\\Delta t} \\left( u_j^{n+1} - u_{j}^n + \\Delta t \\frac{u_{j+1}^n - u_{j-1}^n}{2h} - \\Delta t^2 \\frac{u_{j+1}^n - 2u_j^n + u_{j-1}^n}{2h^2} \\right) \\\\\n",
    "        L_{\\Delta t}(x,t) =&\\,\\, \\frac{u_j^{n+1} - u_{j}^n}{\\Delta t}  + \\frac{u_{j+1}^n - u_{j-1}^n}{2h} - \\Delta t \\frac{u_{j+1}^n - 2u_j^n + u_{j-1}^n}{2h^2}\n",
    "    \\end{aligned}\n",
    "\\end{equation}\n",
    "\n",
    "Consider the following Taylor series expansions:\n",
    "\n",
    "\\begin{equation}\n",
    "    \\begin{aligned}\n",
    "    u_{j}^{n+1} =&\\,\\, u(x,t+\\Delta t) = u(x,t) + \\partial_t u(x,t) \\Delta t + \\frac{\\partial_t^2 u(x,\\xi_1) \\Delta t^2}{2} \\text{ for $\\xi_1$ between $t$ and $t+\\Delta t$} \\\\\n",
    "    u_{j+1}^{n} =&\\,\\, u(x+h,t) = u(x,t) + \\partial_x u(x,t) h + \\frac{\\partial_x^2 u(x,t) h^2}{2} + \\frac{\\partial_x^3 u(x,t) h^3}{6} + \\frac{\\partial_x^4 u(\\xi_2,t) h^4}{24} \\text{ for $\\xi_2$ between $x$ and $(x+h)$} \\\\\n",
    "    u_{j-1}^{n} =&\\,\\, u(x-h,t) = u(x,t) - \\partial_x u(x,t) h + \\frac{\\partial_t^2 u(x,t) h^2}{2} - \\frac{\\partial_x^3 u(x,t) t^3}{6} + \\frac{\\partial_x^4 u(\\xi_3,t) h^4}{24} \\text{ for $\\xi_3$ between $(x-h)$ and $x$} \\\\\n",
    "    \\end{aligned}\n",
    "\\end{equation}\n",
    "\n",
    "\n",
    "Using the Taylor series expansions:\n",
    "\n",
    "\\begin{equation}\n",
    "    \\begin{aligned}\n",
    "        \\frac{u_j^{n+1} - u_{j}^n}{\\Delta t} =&\\,\\, \\frac{u(x,t) + \\partial_t u(x,t) \\Delta t + \\frac{\\partial_t^2 u(x,\\xi_1) \\Delta t^2}{2} - u(x,t)}{\\Delta t}\\\\\n",
    "        \\frac{u_j^{n+1} - u_{j}^n}{\\Delta t} =&\\,\\, \\partial_t u(x,t) + \\frac{\\partial_t^2 u(x,\\xi_1) \\Delta t}{2} \\text{ for $\\xi_1$ between $t$ and $(t+\\Delta t)$}\n",
    "    \\end{aligned}\n",
    "\\end{equation}\n",
    "\n",
    "\\begin{equation}\n",
    "    \\begin{aligned}\n",
    "        \\frac{u_{j+1}^n - u_{j-1}^n}{2h} =&\\,\\, \\frac{\\left( u(x,t) + \\partial_x u(x,t) h + \\frac{\\partial_x^2 u(x,t) h^2}{2} + \\frac{\\partial_x^3 u(\\xi_{23},t) h^3}{6} \\right) - \\left(u(x,t) - \\partial_x u(x,t) h + \\frac{\\partial_t^2 u(x,t) h^2}{2} - \\frac{\\partial_x^3 u(\\xi_{23},t) t^3}{6} \\right)}{2h} \\\\\n",
    "        \\frac{u_{j+1}^n - u_{j-1}^n}{2h} =&\\,\\, \\partial_x u(x,t) + \\frac{\\partial_x^3 u(\\xi_{23},t) h^2}{6} \\text{ for $\\xi_{23}$ between $(x-h)$ and $(x+h)$}\n",
    "    \\end{aligned}\n",
    "\\end{equation}\n",
    "\n",
    "\\begin{equation}\n",
    "    \\begin{aligned}\n",
    "        \\frac{u_{j+1}^n - 2u_j^n + u_{j-1}^n}{2h^2} =&\\,\\, \\frac{ \\left(u(x,t) + \\partial_x u(x,t) h + \\frac{\\partial_x^2 u(x,t) h^2}{2} + \\frac{\\partial_x^3 u(x,t) h^3}{6} + \\frac{\\partial_x^4 u(\\xi_{23},t) h^4}{24} \\right) -2u(x,t) + \\left(u(x,t) - \\partial_x u(x,t) h + \\frac{\\partial_t^2 u(x,t) h^2}{2} - \\frac{\\partial_x^3 u(x,t) t^3}{6} + \\frac{\\partial_x^4 u(\\xi_{23},t) h^4}{24}\\right)}{2h^2} \\\\\n",
    "        \\frac{u_{j+1}^n - 2u_j^n + u_{j-1}^n}{2h^2} =&\\,\\, \\frac{\\partial_x^2 u(x,t)}{2} + \\frac{\\partial_x^4 u(\\xi_{23},t) h^2}{24} \\text{ for $\\xi_{23}$ between $(x-h)$ and $(x+h)$}\n",
    "    \\end{aligned}\n",
    "\\end{equation}\n",
    "\n",
    "Altogether, we get\n",
    "\n",
    "\\begin{equation}\n",
    "    \\begin{aligned}\n",
    "        L_{\\Delta t}(x,t) =&\\,\\, \\partial_t u(x,t) + \\frac{\\partial_t^2 u(x,\\xi_{1}) \\Delta t}{2} + \\partial_x u(x,t) + \\frac{\\partial_x^3 u(\\xi_{23},t) h^2}{6} - \\Delta t \\left(\\frac{\\partial_x^2 u(x,t)}{2} + \\frac{\\partial_x^4 u(\\xi_{23},t) h^2}{24} \\right) \\\\\n",
    "        L_{\\Delta t}(x,t) =&\\,\\, \\partial_t u(x,t) + \\partial_x u(x,t) + \\frac{\\partial_t^2 u(x,\\xi_{1}) \\Delta t}{2} + \\frac{\\partial_x^3 u(\\xi_{23},t) h^2}{6} - \\frac{\\partial_x^2 u(x,t) \\Delta t}{2} - \\frac{\\partial_x^4 u(\\xi_{23},t) h^2 \\Delta t}{24}\n",
    "    \\end{aligned}\n",
    "\\end{equation}\n",
    "\n",
    "Since  $\\partial_t u(x,t) + \\partial_x u(x,t) = 0$, we get\n",
    "\n",
    "\\begin{equation}\n",
    "    \\begin{aligned}\n",
    "        L_{\\Delta t}(x,t) =&\\,\\, \\frac{\\partial_t^2 u(x,\\xi_{1}) \\Delta t}{2} + \\frac{\\partial_x^3 u(\\xi_{23},t) h^2}{6} - \\frac{\\partial_x^2 u(x,t) \\Delta t}{2} - \\frac{\\partial_x^4 u(\\xi_{23},t) h^2 \\Delta t}{24}\n",
    "    \\end{aligned}\n",
    "\\end{equation}\n",
    "\n",
    "From  $\\partial_t u(x,t) + \\partial_x u(x,t) = 0$, $\\partial_t u(x,t) = - \\partial_x u(x,t)$. Thus, we have\n",
    "\n",
    "\\begin{equation}\n",
    "    \\begin{aligned}\n",
    "        \\partial_t^2 u(x,t) =&\\,\\,   \\partial_x^2 u(x,t)\n",
    "    \\end{aligned}\n",
    "\\end{equation}\n",
    "\n",
    "We have\n",
    "\n",
    "\\begin{equation}\n",
    "    \\begin{aligned}\n",
    "L_{\\Delta t}(x,t) =&\\,\\, \\frac{\\partial_t^2 u(x,\\xi_{1}) \\Delta t}{2} + \\frac{\\partial_x^3 u(\\xi_{23},t) h^2}{6} - \\frac{\\partial_x^2 u(x,t) \\Delta t}{2} - \\frac{\\partial_x^4 u(\\xi_{23},t) h^2 \\Delta t}{24} \\\\\n",
    "L_{\\Delta t}(x,t) =&\\,\\, \\frac{\\partial_x^3 u(\\xi_{23},t) h^2}{6} - \\frac{\\partial_x^4 u(\\xi_{23},t) h^2 \\Delta t}{24}\n",
    "    \\end{aligned}\n",
    "\\end{equation}\n",
    "\n",
    "Considering $\\frac{\\Delta t}{h} = \\lambda$, $h = \\frac{\\Delta t}{\\lambda}$ and $h^2 = \\frac{\\Delta t^2}{\\lambda^2}$, we have\n",
    "\n",
    "\\begin{equation}\n",
    "    \\begin{aligned}\n",
    "        L_{\\Delta t}(x,t) =&\\,\\, \\frac{\\partial_x^3 u(\\xi_{23},t)}{6 \\lambda^2}\\Delta t^2 - \\frac{\\partial_x^4 u(\\xi_{23},t)}{24 \\lambda^2} \\Delta t^3\n",
    "    \\end{aligned}\n",
    "\\end{equation}\n",
    "\n",
    "Since $\\partial_x^3 u(x,t)$ and $\\partial_x^4 u(x,t)$ are uniformly bounded, $|\\partial_x^3 u(x,t)| \\leq C$, $\\forall (x,t)$ and $|\\partial_x^4 u(x,t)| \\leq D$, $\\forall (x,t)$\n",
    "\n",
    "So $|L_{\\Delta t}(x,t)| \\leq \\left( \\frac{1}{6 \\lambda^2}\\right) C \\Delta t^2 - \\left( \\frac{1}{24 \\lambda^2} \\right) D \\Delta t^3$ and $ L_{\\Delta t}(x,t) = O(\\Delta t^2) $\n",
    "  \n",
    "Therefore, the method is consistent and second-order accurate locally."
   ]
  },
  {
   "cell_type": "markdown",
   "id": "5397412e",
   "metadata": {},
   "source": [
    "**Task 2**\n",
    "\n",
    "Using the Von Neumann analysis, is the finite difference method stable?\n"
   ]
  },
  {
   "cell_type": "markdown",
   "id": "bf9f5474",
   "metadata": {
    "scrolled": false
   },
   "source": [
    "To apply von Neumann analysis, we consider how the finite difference method works on a single wave number.\n",
    "\n",
    "Consider the discrete Fourier transform:\n",
    "\n",
    "\\begin{equation}\n",
    "        u_j^{n} = \\sum_{k=0}^{N-1} \\hat{u}_k^{n} e^{ijhk} , j = 0,1,...,N-1\n",
    "\\end{equation}\n",
    "\n",
    "We seek a form $\\hat{u}_k^{n+1} = g(k) \\hat{u}_k^{n}$.\n",
    "\n",
    "From the finite difference method,\n",
    "\n",
    "\\begin{equation}\n",
    "    \\begin{aligned}\n",
    "        u_j^{n+1} =&\\,\\, u_{j}^n - \\Delta t \\frac{u_{j+1}^n - u_{j-1}^n}{2h} + \\Delta t^2 \\frac{u_{j+1}^n - 2u_j^n + u_{j-1}^n}{2h^2} \\\\\n",
    "        \\sum_{k=0}^{N-1} \\hat{u}_k^{n+1} e^{ijhk} =&\\,\\, \\sum_{k=0}^{N-1} \\hat{u}_k^{n} e^{ijhk} - \\Delta t \\frac{\\sum_{k=0}^{N-1} \\hat{u}_k^{n} e^{i(j+1)hk} - \\sum_{k=0}^{N-1} \\hat{u}_k^{n} e^{i(j-1)hk}}{2h} + \\Delta t^2 \\frac{\\sum_{k=0}^{N-1} \\hat{u}_k^{n} e^{i(j+1)hk} - 2\\sum_{k=0}^{N-1} \\hat{u}_k^{n} e^{ijhk} + \\sum_{k=0}^{N-1} \\hat{u}_k^{n} e^{i(j-1)hk}}{2h^2} \\\\\n",
    "        \\sum_{k=0}^{N-1} \\hat{u}_k^{n+1} e^{ijhk} =&\\,\\, \\sum_{k=0}^{N-1} \\left( 1 - \\frac{\\Delta t}{2h} (e^{ihk} - e^{-ihk}) + \\frac{\\Delta t^2}{2h^2} (e^{ihk} - 2 + e^{-ihk}) \\right) \\hat{u}_k^{n} e^{ijhk} \\\\\n",
    "    \\end{aligned}\n",
    "\\end{equation}\n",
    "\n",
    "So, for each $k$\n",
    "\n",
    "\\begin{equation}\n",
    "        \\hat{u}_k^{n+1} = \\left( 1 - \\frac{\\Delta t}{2h} (e^{ihk} - e^{-ihk}) + \\frac{\\Delta t^2}{2h^2} (e^{ihk} - 2 + e^{-ihk}) \\right) \\hat{u}_k^{n} = g(k) \\hat{u}_k^{n} \\\\\n",
    "\\end{equation}\n",
    "\n",
    "We then require $|g(k)| \\leq 1$ , $\\forall k$\n",
    "\n",
    "\\begin{equation}\n",
    "    \\begin{aligned}\n",
    "        \\left| 1 - \\frac{\\Delta t}{2h} (e^{ihk} - e^{-ihk}) + \\frac{\\Delta t^2}{2h^2} (e^{ihk} - 2 + e^{-ihk}) \\right| \\leq 1 \\\\\n",
    "        \\left| 1 + \\frac{\\Delta t^2}{h^2} (\\cos(hk) - 1) - \\frac{\\Delta t}{h} (i\\sin(hk)) \\right| \\leq 1 \\\\\n",
    "        \\left( \\left( 1 + \\frac{\\Delta t^2}{h^2} (\\cos(hk) - 1) \\right)^{2} + \\left(\\frac{\\Delta t}{h} \\sin(hk)\\right)^{2} \\right)^{\\frac{1}{2}} \\leq 1 \\\\\n",
    "        \\left( 1 + \\frac{\\Delta t^2}{h^2} (\\cos(hk) - 1) \\right)^{2} + \\left(\\frac{\\Delta t}{h} \\sin(hk)\\right)^{2} \\leq 1 \\\\\n",
    "         1 + \\frac{2 \\Delta t^2}{h^2} (\\cos(hk) - 1) + \\frac{\\Delta t^4}{h^4} (\\cos(hk) - 1)^{2} + \\frac{\\Delta t^2}{h^2} \\sin^{2}(hk) \\leq 1 \\\\\n",
    "        \\frac{\\Delta t^4}{h^4} (\\cos(hk) - 1)^{2} + \\frac{\\Delta t^2}{h^2} (2 \\cos(hk) - 2 + \\sin^{2}(hk)) \\leq 0 \\\\\n",
    "        \\frac{\\Delta t^4}{h^4} (\\cos(hk) - 1)^{2} + \\frac{\\Delta t^2}{h^2} \\left(-4 \\sin\\left(\\frac{hk}{2}\\right)^{4}\\right) \\leq 0 \\\\\n",
    "        \\frac{\\Delta t^4}{h^4} \\left(4 \\sin\\left(\\frac{hk}{2}\\right)^{4}\\right) + \\frac{\\Delta t^2}{h^2} \\left(-4 \\sin\\left(\\frac{hk}{2}\\right)^{4}\\right) \\leq 0 \\\\\n",
    "        4 \\left( \\sin\\left(\\frac{hk}{2}\\right)^{4} \\right) \\left( \\frac{\\Delta t^{4}}{h^{4}} - \\frac{\\Delta t^{2}}{h^{2}} \\right) \\leq 0 \\\\\n",
    "    \\end{aligned}\n",
    "\\end{equation}\n",
    "\n",
    "Since $4 \\left( \\sin\\left(\\frac{hk}{2}\\right)^{4} \\right) \\geq 1$, $\\forall k$, we require $\\left( \\frac{\\Delta t^{4}}{h^{4}} - \\frac{\\Delta t^{2}}{h^{2}} \\right) \\leq 0$.\n",
    "\n",
    "\\begin{equation}\n",
    "    \\begin{aligned}\n",
    "        \\frac{\\Delta t^{4}}{h^{4}} - \\frac{\\Delta t^{2}}{h^{2}} \\leq 0 \\\\\n",
    "        \\frac{\\Delta t^{2}}{h^{2}} \\left( \\frac{\\Delta t^{2}}{h^{2}} - 1 \\right) \\leq 0 \\\\\n",
    "        \\frac{\\Delta t^{2}}{h^{2}} - 1 \\leq 0 \\\\\n",
    "        \\Delta t^{2} \\leq h^{2} \\\\\n",
    "    \\end{aligned}\n",
    "\\end{equation}\n",
    "\n",
    "Therefore, the method in **Part 1** is stable in 2-norm if $\\Delta t \\leq h$. \n",
    "Otherwise, if the condition is not met, the method is unstable."
   ]
  },
  {
   "cell_type": "markdown",
   "id": "adf5a44e",
   "metadata": {},
   "source": [
    "**Task 3**\n",
    "\n",
    "Provide numerical evidences of your results of **Task 1** and **Task 2**."
   ]
  },
  {
   "cell_type": "code",
   "execution_count": 17,
   "id": "8bfa1237",
   "metadata": {},
   "outputs": [
    {
     "data": {
      "image/png": "[encoded data removed]",
      "text/plain": [
       "<Figure size 640x480 with 1 Axes>"
      ]
     },
     "metadata": {},
     "output_type": "display_data"
    }
   ],
   "source": [
    "# EVIDENCE OF RESULTS OF **QUESTION 1**\n",
    "\n",
    "# Goal: Observe value of norm of Local Truncation Error as \\Delta t approaches 0\n",
    "# If norm of Local Truncation Error approaches zero, the method is consistent\n",
    "# else, method is inconsistent\n",
    "# Through changing values of CFL, \\Delta t is shown to approach 0\n",
    "\n",
    "def initial_cdn(x):\n",
    "    sigma = 0.01\n",
    "    return np.exp(-x**2 / sigma**2)\n",
    "\n",
    "# Define parameters\n",
    "h = 0.01\n",
    "cfl_values = np.linspace(1, 0.1, 50)\n",
    "Omega    = [-1,1]\n",
    "T        = 2\n",
    "is_movie = False\n",
    "\n",
    "# Define k range\n",
    "k_1 = 5\n",
    "k_f = 15\n",
    "\n",
    "# Initialize errors\n",
    "errors = []\n",
    "\n",
    "for cfl in cfl_values:\n",
    "    x, t, u = my_fdtd(h, cfl, Omega, T, initial_cdn, is_movie)\n",
    "\n",
    "    u_exact = initial_cdn(x - t) # Compute exact solution\n",
    "    error   = np.linalg.norm(u - u_exact, np.inf) # Compute errors\n",
    "    errors.append(error) # Append errors \n",
    "    \n",
    "# Plot Convergence\n",
    "plt.loglog(cfl_values, errors,color=\"blue\",marker=\"*\",linestyle=\"-\")\n",
    "plt.title('Convergence Plot of CFL for at time T=2')\n",
    "plt.xlabel('CFL')\n",
    "plt.ylabel('Error')\n",
    "plt.show()"
   ]
  },
  {
   "cell_type": "code",
   "execution_count": 18,
   "id": "b3934cbd",
   "metadata": {},
   "outputs": [],
   "source": [
    "# EVIDENCE OF RESULTS OF **QUESTION 2**\n",
    "\n",
    "# Goal: Observe stability of finite difference method when \\Delta t > h\n",
    "# CFl is changed to be greater than 1 \n",
    "# to show that the method is unstable when \\Delta t > h\n",
    "\n",
    "def initial_cdn(x):\n",
    "    sigma = 0.01\n",
    "    return np.exp(-x**2 / sigma**2)\n",
    "\n",
    "# Define the parameters\n",
    "CFL = 1.1  # Changed to have \\Delta t > h\n",
    "Omega = [-1, 1]\n",
    "T = 2\n",
    "\n",
    "is_movie = True\n",
    "\n",
    "# Define k range\n",
    "k_1 = 5\n",
    "k_f = 15\n",
    "\n",
    "# Animation displaying unstability of the method since \\Delta t > h\n",
    "#for k in range(k_1,k_f):\n",
    "#    h = 2.0**-k  \n",
    "#    x, t, u = my_fdtd(h, CFL, Omega, T, initial_cdn, is_movie)"
   ]
  },
  {
   "cell_type": "markdown",
   "id": "0f5268ea",
   "metadata": {},
   "source": [
    "**Task 4**\n",
    "\n",
    "Using the function `my_fdtd`, visualize the evolution of $T=8$ with $h \\in \\{0.05,0.025,0.01\\}$. Describe your results and provide three figures showing the numerical approximation at the final time $T$, one for each mesh size. \n",
    "\n",
    "**Note that you need to include all the code that you use to answer the question. That being said, you will comment it when you will generate the PDF file of your programming assignment to avoid to re-run the simulations.**"
   ]
  },
  {
   "cell_type": "code",
   "execution_count": 20,
   "id": "bb731ceb",
   "metadata": {},
   "outputs": [],
   "source": [
    "def initial_cdn(x):\n",
    "    sigma = 0.01\n",
    "    return np.exp(-x**2 / sigma**2)\n",
    "\n",
    "# Define parameters\n",
    "cfl   = 0.5\n",
    "Omega = [-1, 1]\n",
    "T     = 8\n",
    "is_movie = True"
   ]
  },
  {
   "cell_type": "code",
   "execution_count": 21,
   "id": "a3c33557",
   "metadata": {},
   "outputs": [],
   "source": [
    "#x, t, u = my_fdtd(0.05,cfl,Omega,T,initial_cdn,is_movie)"
   ]
  },
  {
   "cell_type": "code",
   "execution_count": 22,
   "id": "ca4c5ce6",
   "metadata": {},
   "outputs": [],
   "source": [
    "#x, t, u = my_fdtd(0.025,cfl,Omega,T,initial_cdn,is_movie)"
   ]
  },
  {
   "cell_type": "code",
   "execution_count": 23,
   "id": "527749ee",
   "metadata": {},
   "outputs": [],
   "source": [
    "#x, t, u = my_fdtd(0.01,cfl,Omega,T,initial_cdn,is_movie)"
   ]
  },
  {
   "cell_type": "markdown",
   "id": "6784b877",
   "metadata": {},
   "source": [
    "Within the visualizations of the numerical approximations at the final time T, the initial condition of the linear advection equation seems to be stretched out for larger mesh size h and tends to stay close to the shape of the initial condition for smaller values of h. \n",
    "\n",
    "Since higher values of the mesh size h lead to less accurate approximations of the PDE, the initial condition seems to lose detail of the initial condition at the final time T in comparison to approximations of the PDE with smaller mesh sizes, which keep more detail of the initial condition at the final time T."
   ]
  }
 ],
 "metadata": {
  "kernelspec": {
   "display_name": "Python [conda env:base] *",
   "language": "python",
   "name": "conda-base-py"
  },
  "language_info": {
   "codemirror_mode": {
    "name": "ipython",
    "version": 3
   },
   "file_extension": ".py",
   "mimetype": "text/x-python",
   "name": "python",
   "nbconvert_exporter": "python",
   "pygments_lexer": "ipython3",
   "version": "3.11.5"
  }
 },
 "nbformat": 4,
 "nbformat_minor": 5
}
